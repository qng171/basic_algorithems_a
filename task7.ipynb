{
  "nbformat": 4,
  "nbformat_minor": 0,
  "metadata": {
    "kernelspec": {
      "display_name": "Python 3",
      "language": "python",
      "name": "python3"
    },
    "language_info": {
      "codemirror_mode": {
        "name": "ipython",
        "version": 3
      },
      "file_extension": ".py",
      "mimetype": "text/x-python",
      "name": "python",
      "nbconvert_exporter": "python",
      "pygments_lexer": "ipython3",
      "version": "3.7.4"
    },
    "colab": {
      "name": "task7.ipynb",
      "provenance": [],
      "collapsed_sections": []
    }
  },
  "cells": [
    {
      "cell_type": "code",
      "metadata": {
        "id": "gw5hNwuLfp7z",
        "colab_type": "code",
        "outputId": "05cbfc2f-97b5-4138-ad98-ec1023cbee64",
        "colab": {
          "base_uri": "https://localhost:8080/",
          "height": 34
        }
      },
      "source": [
        "List_A = [1,1,2,5,5,5,8,8,9]\n",
        "print(List_A)"
      ],
      "execution_count": 0,
      "outputs": [
        {
          "output_type": "stream",
          "text": [
            "[1, 1, 2, 5, 5, 5, 8, 8, 9]\n"
          ],
          "name": "stdout"
        }
      ]
    },
    {
      "cell_type": "code",
      "metadata": {
        "id": "cJhaiCgQfp7_",
        "colab_type": "code",
        "outputId": "7bb5997f-e9d6-421c-f175-3c658813f378",
        "colab": {
          "base_uri": "https://localhost:8080/",
          "height": 34
        }
      },
      "source": [
        "List_B = [1,2,2,3,3,3,6,10]\n",
        "print(List_B)"
      ],
      "execution_count": 0,
      "outputs": [
        {
          "output_type": "stream",
          "text": [
            "[1, 2, 2, 3, 3, 3, 6, 10]\n"
          ],
          "name": "stdout"
        }
      ]
    },
    {
      "cell_type": "code",
      "metadata": {
        "id": "OLhH8qfQfp8H",
        "colab_type": "code",
        "outputId": "02fc8931-00f1-4889-e427-bfbf73df3014",
        "colab": {
          "base_uri": "https://localhost:8080/",
          "height": 34
        }
      },
      "source": [
        "List_A_set = set(List_A)\n",
        "print(List_A_set)"
      ],
      "execution_count": 0,
      "outputs": [
        {
          "output_type": "stream",
          "text": [
            "{1, 2, 5, 8, 9}\n"
          ],
          "name": "stdout"
        }
      ]
    },
    {
      "cell_type": "code",
      "metadata": {
        "id": "EJKnRT3-fp8O",
        "colab_type": "code",
        "outputId": "e208c5bf-8a39-4066-faf3-6a95929ef262",
        "colab": {
          "base_uri": "https://localhost:8080/",
          "height": 34
        }
      },
      "source": [
        "List_B_set = set(List_B)\n",
        "print(List_B_set)"
      ],
      "execution_count": 0,
      "outputs": [
        {
          "output_type": "stream",
          "text": [
            "{1, 2, 3, 6, 10}\n"
          ],
          "name": "stdout"
        }
      ]
    },
    {
      "cell_type": "code",
      "metadata": {
        "id": "5Ykv42ulfp8T",
        "colab_type": "code",
        "colab": {}
      },
      "source": [
        ""
      ],
      "execution_count": 0,
      "outputs": []
    },
    {
      "cell_type": "markdown",
      "metadata": {
        "id": "gPQf3NU3fp8W",
        "colab_type": "text"
      },
      "source": [
        "| = or 　\n",
        "& = A&B　とは同じ　ヤツ\n",
        "^ = Xor : Những giá trị mà A và B có, loại bỏ những giá trị chung giữa A&B."
      ]
    },
    {
      "cell_type": "code",
      "metadata": {
        "id": "IhNEPTPQfp8X",
        "colab_type": "code",
        "outputId": "6cc66607-e3e3-4e57-f04f-c3bd8c882270",
        "colab": {
          "base_uri": "https://localhost:8080/",
          "height": 34
        }
      },
      "source": [
        "List_A_set | List_B_set"
      ],
      "execution_count": 0,
      "outputs": [
        {
          "output_type": "execute_result",
          "data": {
            "text/plain": [
              "{1, 2, 3, 5, 6, 8, 9, 10}"
            ]
          },
          "metadata": {
            "tags": []
          },
          "execution_count": 6
        }
      ]
    },
    {
      "cell_type": "code",
      "metadata": {
        "id": "-ORHDQ1Gfp8a",
        "colab_type": "code",
        "outputId": "a6836a0e-07ca-4b40-eb8c-6673b740645b",
        "colab": {
          "base_uri": "https://localhost:8080/",
          "height": 34
        }
      },
      "source": [
        "List_A_set & List_B_set"
      ],
      "execution_count": 0,
      "outputs": [
        {
          "output_type": "execute_result",
          "data": {
            "text/plain": [
              "{1, 2}"
            ]
          },
          "metadata": {
            "tags": []
          },
          "execution_count": 7
        }
      ]
    },
    {
      "cell_type": "code",
      "metadata": {
        "id": "Ah8QQrWzfp8c",
        "colab_type": "code",
        "outputId": "fa4376c9-1c56-41b2-9357-17cb45f946cf",
        "colab": {
          "base_uri": "https://localhost:8080/",
          "height": 34
        }
      },
      "source": [
        "List_A_set ^ List_B_set"
      ],
      "execution_count": 0,
      "outputs": [
        {
          "output_type": "execute_result",
          "data": {
            "text/plain": [
              "{3, 5, 6, 8, 9, 10}"
            ]
          },
          "metadata": {
            "tags": []
          },
          "execution_count": 8
        }
      ]
    },
    {
      "cell_type": "code",
      "metadata": {
        "id": "_2-2OHqtfp8g",
        "colab_type": "code",
        "colab": {}
      },
      "source": [
        "numbers = {'ご':5,'いち':1,'じゅう':10,'に':2,'はち':8,'よん':4,'ろく':6,'さん':3,'なな':7,'きゅう':9}"
      ],
      "execution_count": 0,
      "outputs": []
    },
    {
      "cell_type": "code",
      "metadata": {
        "id": "xu8KuXZBfp8h",
        "colab_type": "code",
        "outputId": "ef22418a-001a-4755-dc1a-43e3e829f12a",
        "colab": {
          "base_uri": "https://localhost:8080/",
          "height": 34
        }
      },
      "source": [
        "num_keys = len(numbers)\n",
        "print(num_keys)"
      ],
      "execution_count": 0,
      "outputs": [
        {
          "output_type": "stream",
          "text": [
            "10\n"
          ],
          "name": "stdout"
        }
      ]
    },
    {
      "cell_type": "code",
      "metadata": {
        "id": "tHzvkcYefp8j",
        "colab_type": "code",
        "outputId": "3b1f9391-fdf1-4344-9e3f-05d856501f5b",
        "colab": {
          "base_uri": "https://localhost:8080/",
          "height": 34
        }
      },
      "source": [
        "contains_ten_k = numbers.get('十')\n",
        "print(contains_ten_k)"
      ],
      "execution_count": 0,
      "outputs": [
        {
          "output_type": "stream",
          "text": [
            "None\n"
          ],
          "name": "stdout"
        }
      ]
    },
    {
      "cell_type": "code",
      "metadata": {
        "id": "WK-EzuWrfp8l",
        "colab_type": "code",
        "outputId": "221fe3e5-5bbb-4d3f-b3ed-53a4fdaaf86b",
        "colab": {
          "base_uri": "https://localhost:8080/",
          "height": 34
        }
      },
      "source": [
        "contains_ten_k = \"十\" in numbers\n",
        "print(contains_ten_k)"
      ],
      "execution_count": 0,
      "outputs": [
        {
          "output_type": "stream",
          "text": [
            "False\n"
          ],
          "name": "stdout"
        }
      ]
    },
    {
      "cell_type": "markdown",
      "metadata": {
        "id": "Kb33Qr8rfp8n",
        "colab_type": "text"
      },
      "source": [
        "値を加えたら：...."
      ]
    },
    {
      "cell_type": "code",
      "metadata": {
        "id": "dLAJQIXjfp8n",
        "colab_type": "code",
        "outputId": "10481ada-b714-4476-c0e9-4667893e80c7",
        "colab": {
          "base_uri": "https://localhost:8080/",
          "height": 34
        }
      },
      "source": [
        "numbers['じゅういち']=11\n",
        "print(numbers)"
      ],
      "execution_count": 0,
      "outputs": [
        {
          "output_type": "stream",
          "text": [
            "{'ご': 5, 'いち': 1, 'じゅう': 10, 'に': 2, 'はち': 8, 'よん': 4, 'ろく': 6, 'さん': 3, 'なな': 7, 'きゅう': 9, 'じゅういち': 11}\n"
          ],
          "name": "stdout"
        }
      ]
    },
    {
      "cell_type": "code",
      "metadata": {
        "id": "hX8iWcmEfp8o",
        "colab_type": "code",
        "outputId": "0e3ae42c-0580-452e-bf91-0808050b7be2",
        "colab": {
          "base_uri": "https://localhost:8080/",
          "height": 34
        }
      },
      "source": [
        "sorted_keys = sorted(numbers.keys())\n",
        "print(sorted_keys)"
      ],
      "execution_count": 0,
      "outputs": [
        {
          "output_type": "stream",
          "text": [
            "['いち', 'きゅう', 'ご', 'さん', 'じゅう', 'じゅういち', 'なな', 'に', 'はち', 'よん', 'ろく']\n"
          ],
          "name": "stdout"
        }
      ]
    },
    {
      "cell_type": "code",
      "metadata": {
        "id": "7ksOFG7dfp8q",
        "colab_type": "code",
        "outputId": "35e88c8a-3168-4a9e-c1e2-62ffe01fd950",
        "colab": {
          "base_uri": "https://localhost:8080/",
          "height": 34
        }
      },
      "source": [
        "print(sorted_keys[0])"
      ],
      "execution_count": 0,
      "outputs": [
        {
          "output_type": "stream",
          "text": [
            "いち\n"
          ],
          "name": "stdout"
        }
      ]
    },
    {
      "cell_type": "code",
      "metadata": {
        "id": "iN9EyI47fp8s",
        "colab_type": "code",
        "outputId": "b62d4fc2-182a-426b-b459-a1aeefb992bb",
        "colab": {
          "base_uri": "https://localhost:8080/",
          "height": 34
        }
      },
      "source": [
        "print(sorted_keys[-1])"
      ],
      "execution_count": 0,
      "outputs": [
        {
          "output_type": "stream",
          "text": [
            "ろく\n"
          ],
          "name": "stdout"
        }
      ]
    },
    {
      "cell_type": "code",
      "metadata": {
        "id": "2mTBT6Hdfp8t",
        "colab_type": "code",
        "outputId": "d3819220-bf32-418e-f704-e1af53aa622e",
        "colab": {
          "base_uri": "https://localhost:8080/",
          "height": 34
        }
      },
      "source": [
        "sorted_values = sorted(numbers.values())\n",
        "print(sorted_values)"
      ],
      "execution_count": 0,
      "outputs": [
        {
          "output_type": "stream",
          "text": [
            "[1, 2, 3, 4, 5, 6, 7, 8, 9, 10, 11]\n"
          ],
          "name": "stdout"
        }
      ]
    },
    {
      "cell_type": "code",
      "metadata": {
        "id": "61r8WXUffp8v",
        "colab_type": "code",
        "outputId": "b0447f4d-2eac-42a4-d257-e8eb4235c5d7",
        "colab": {
          "base_uri": "https://localhost:8080/",
          "height": 34
        }
      },
      "source": [
        "print(sorted_values[0])"
      ],
      "execution_count": 0,
      "outputs": [
        {
          "output_type": "stream",
          "text": [
            "1\n"
          ],
          "name": "stdout"
        }
      ]
    },
    {
      "cell_type": "code",
      "metadata": {
        "id": "mS0TmI8Vfp8w",
        "colab_type": "code",
        "outputId": "95a28763-edff-49eb-d89e-43a056a6350d",
        "colab": {
          "base_uri": "https://localhost:8080/",
          "height": 34
        }
      },
      "source": [
        "print(sorted_values[-2])"
      ],
      "execution_count": 0,
      "outputs": [
        {
          "output_type": "stream",
          "text": [
            "10\n"
          ],
          "name": "stdout"
        }
      ]
    },
    {
      "cell_type": "code",
      "metadata": {
        "id": "XVxq9vJrfp8x",
        "colab_type": "code",
        "outputId": "c1fb4bdd-0449-466e-9db2-74f35ce64407",
        "colab": {
          "base_uri": "https://localhost:8080/",
          "height": 51
        }
      },
      "source": [
        "print(\"please insert any numbers\")\n",
        "x = input()\n",
        "x = int(x)"
      ],
      "execution_count": 0,
      "outputs": [
        {
          "output_type": "stream",
          "text": [
            "please insert any numbers\n",
            "5\n"
          ],
          "name": "stdout"
        }
      ]
    },
    {
      "cell_type": "code",
      "metadata": {
        "id": "33FgtSKDfp8y",
        "colab_type": "code",
        "outputId": "a46bbcf2-e585-4446-cf59-a3a4f3043013",
        "colab": {
          "base_uri": "https://localhost:8080/",
          "height": 34
        }
      },
      "source": [
        "if x==0:\n",
        "  print(x, \"is zero\")\n",
        "elif x>0:\n",
        "  print(x, \"is positive\")\n",
        "elif x<0:\n",
        "  print(x, \"is nagative\")\n",
        "else:\n",
        "  print(x, \"is None\")"
      ],
      "execution_count": 0,
      "outputs": [
        {
          "output_type": "stream",
          "text": [
            "5 is positive\n"
          ],
          "name": "stdout"
        }
      ]
    },
    {
      "cell_type": "code",
      "metadata": {
        "id": "3_HXkNwxfp8z",
        "colab_type": "code",
        "outputId": "edc94852-789c-4211-d1c0-e2c2ffc47468",
        "colab": {
          "base_uri": "https://localhost:8080/",
          "height": 85
        }
      },
      "source": [
        "print(\"where are country you want buy\")\n",
        "country = input()\n",
        "print(\"please put the raw price of cash\")\n",
        "raw_price_of_good = input()\n",
        "raw_price_of_good = int(raw_price_of_good)"
      ],
      "execution_count": 1,
      "outputs": [
        {
          "output_type": "stream",
          "text": [
            "where are country you want buy\n",
            "japan\n",
            "please put the raw price of cash\n",
            "300\n"
          ],
          "name": "stdout"
        }
      ]
    },
    {
      "cell_type": "code",
      "metadata": {
        "id": "3QUkSFddfp81",
        "colab_type": "code",
        "colab": {
          "base_uri": "https://localhost:8080/",
          "height": 130
        },
        "outputId": "92a786ee-818c-47d7-d6de-9044621b712a"
      },
      "source": [
        "if country == 'Japan'\n",
        "  tax_amount = 0.08\n",
        "  total_cost = raw_price_of_good * (1+tax_amount)\n",
        "  tatal_cost = round(total_cost, 2)\n",
        "  result = \"You need to pay {} because you are from {}\". format(total_cost,country)\n",
        "elif country == 'Malaysia'\n",
        "  tax_amount = 0.06\n",
        "  total_cost = raw_price_of_good * (1+tax_amount)\n",
        "  tatal_cost = round(total_cost, 2)\n",
        "  result = \"You need to pay {} because you are from {}\". format(total_cost,country)\n",
        "elif country == 'UK'\n",
        "  tax_amount = 0.14\n",
        "  total_cost = raw_price_of_good * (1+tax_amount)\n",
        "  tatal_cost = round(total_cost, 2)\n",
        "  result = \"You need to pay {} because you are from {}\". format(total_cost,country)\n",
        "elif country == 'Europe'\n",
        "  tax_amount = 0.2\n",
        "  total_cost = raw_price_of_good * (1+tax_amount)\n",
        "  tatal_cost = round(total_cost, 2)\n",
        "  result = \"You need to pay {} because you are from {}\". format(total_cost,country)\n",
        "else country == 'USA'\n",
        "  tax_amount = 0.05\n",
        "  total_cost = raw_price_of_good * (1+tax_amount)\n",
        "  tatal_cost = round(total_cost, 2)\n",
        "  result = \"You need to pay {} because you are from {}\". format(total_cost,country)\n"
      ],
      "execution_count": 4,
      "outputs": [
        {
          "output_type": "error",
          "ename": "SyntaxError",
          "evalue": "ignored",
          "traceback": [
            "\u001b[0;36m  File \u001b[0;32m\"<ipython-input-4-15bec87adeaa>\"\u001b[0;36m, line \u001b[0;32m1\u001b[0m\n\u001b[0;31m    if country == 'Japan'\u001b[0m\n\u001b[0m                         ^\u001b[0m\n\u001b[0;31mSyntaxError\u001b[0m\u001b[0;31m:\u001b[0m invalid syntax\n"
          ]
        }
      ]
    },
    {
      "cell_type": "code",
      "metadata": {
        "id": "A2INFL3_fp82",
        "colab_type": "code",
        "colab": {}
      },
      "source": [
        ""
      ],
      "execution_count": 0,
      "outputs": []
    },
    {
      "cell_type": "code",
      "metadata": {
        "id": "EIvErZoQfp83",
        "colab_type": "code",
        "colab": {}
      },
      "source": [
        ""
      ],
      "execution_count": 0,
      "outputs": []
    }
  ]
}